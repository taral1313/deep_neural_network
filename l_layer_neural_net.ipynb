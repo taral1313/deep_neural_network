{
 "cells": [
  {
   "cell_type": "code",
   "execution_count": 42,
   "metadata": {},
   "outputs": [],
   "source": [
    "import time\n",
    "import numpy as np\n",
    "import h5py\n",
    "import matplotlib.pyplot as plt\n",
    "import scipy\n",
    "from PIL import Image\n",
    "from scipy import ndimage\n",
    "from dnn_app_utils_v3 import *\n",
    "from public_tests import *"
   ]
  },
  {
   "cell_type": "code",
   "execution_count": 43,
   "metadata": {},
   "outputs": [],
   "source": [
    "train_x_orig, train_y, test_x_orig, test_y, classes = load_data()"
   ]
  },
  {
   "cell_type": "code",
   "execution_count": 44,
   "metadata": {},
   "outputs": [],
   "source": [
    "# function to create any image sample of shape (64, 64) * 3 to its eqouivalent flattened form\n",
    "\n",
    "def create_flattened_data(data):\n",
    "\n",
    "    X = data.reshape((data[1].shape[0]*data[1].shape[0]*3, len(data)))\n",
    "    flattened_data = X/255.\n",
    "    return flattened_data"
   ]
  },
  {
   "cell_type": "code",
   "execution_count": 45,
   "metadata": {},
   "outputs": [],
   "source": [
    "X = create_flattened_data(train_x_orig)\n",
    "Y = create_flattened_data(test_x_orig)"
   ]
  },
  {
   "cell_type": "code",
   "execution_count": 46,
   "metadata": {},
   "outputs": [],
   "source": [
    "def initialize_deep_weights(X, layers_dims):\n",
    "\n",
    "    L = len(layers_dims)\n",
    "    parameters = {}\n",
    "\n",
    "    parameters['W1'] = np.random.randn(layers_dims[0], X.shape[0])\n",
    "    parameters['b1'] = np.zeros((layers_dims[0], 1))\n",
    "    for l in range(1, L):\n",
    "\n",
    "        parameters['W' + str(l+1)] = np.random.randn(layers_dims[l], layers_dims[l-1]) * 0.01\n",
    "        parameters['b' + str(l+1)] = np.zeros((layers_dims[l], 1))\n",
    "        \n",
    "\n",
    "    return parameters"
   ]
  },
  {
   "cell_type": "code",
   "execution_count": 48,
   "metadata": {},
   "outputs": [],
   "source": [
    "def linear_forward(A_prev, W, b):\n",
    "\n",
    "    Z = np.dot(W, A_prev) + b\n",
    "    \n",
    "    cache = (W, b)\n",
    "    return Z, cache    "
   ]
  },
  {
   "cell_type": "code",
   "execution_count": 49,
   "metadata": {},
   "outputs": [],
   "source": [
    "def linear_activation_forward(A_prev, W, b, activation):\n",
    "\n",
    "    # A_prev = X\n",
    "    if activation == \"relu\":\n",
    "        Z, linear_cache = linear_forward(A_prev, W, b)\n",
    "        A, activation_cache = relu(Z)\n",
    "\n",
    "    if activation == \"sigmoid\":\n",
    "        Z, linear_cache = linear_forward(A_prev, W, b)\n",
    "        A, activation_cache = sigmoid(Z)\n",
    "\n",
    "    cache = linear_cache, activation_cache\n",
    "    return A, cache\n",
    "\n",
    "\n"
   ]
  },
  {
   "cell_type": "code",
   "execution_count": 67,
   "metadata": {},
   "outputs": [],
   "source": [
    "\n",
    "def L_model_forward(X, parameters):\n",
    "\n",
    "    caches = []\n",
    "    L = len(parameters) // 2\n",
    "    A_prev = X\n",
    "    for l in range(1, L):\n",
    "        W = parameters['W' + str(l)]\n",
    "        b = parameters['b' + str(l)]\n",
    "\n",
    "        A_prev, cache = linear_activation_forward(A_prev, W, b, activation=\"relu\")\n",
    "        caches.append(cache)\n",
    "\n",
    "    W = parameters['W' + str(L)]\n",
    "    b = parameters['b' + str(L)]\n",
    "    AL, activation_cache = linear_activation_forward(A_prev, W, b, activation=\"sigmoid\")\n",
    "\n",
    "    caches.append(activation_cache)\n",
    "    return AL, caches"
   ]
  },
  {
   "cell_type": "code",
   "execution_count": null,
   "metadata": {},
   "outputs": [],
   "source": []
  },
  {
   "cell_type": "code",
   "execution_count": null,
   "metadata": {},
   "outputs": [],
   "source": []
  }
 ],
 "metadata": {
  "kernelspec": {
   "display_name": "Python 3.10.5 64-bit",
   "language": "python",
   "name": "python3"
  },
  "language_info": {
   "codemirror_mode": {
    "name": "ipython",
    "version": 3
   },
   "file_extension": ".py",
   "mimetype": "text/x-python",
   "name": "python",
   "nbconvert_exporter": "python",
   "pygments_lexer": "ipython3",
   "version": "3.10.5"
  },
  "orig_nbformat": 4,
  "vscode": {
   "interpreter": {
    "hash": "cf75baf5e7ca3faaa82feacc38aaa4bb309862360d3df1f500c535d8b05cd050"
   }
  }
 },
 "nbformat": 4,
 "nbformat_minor": 2
}
